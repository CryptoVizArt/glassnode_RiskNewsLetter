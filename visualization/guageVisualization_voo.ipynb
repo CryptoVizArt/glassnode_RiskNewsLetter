{
 "cells": [
  {
   "cell_type": "code",
   "id": "initial_id",
   "metadata": {
    "collapsed": true,
    "jupyter": {
     "is_executing": true
    }
   },
   "source": [
    "import plotly.graph_objects as go\n",
    "\n",
    "fig = go.Figure(go.Indicator(\n",
    "    domain = {'x': [0, 1], 'y': [0, 1]},\n",
    "    value = 0.5,  # Current value\n",
    "    mode = \"gauge+number+delta\",\n",
    "    title = {'text': \"LTH Sentiment\"},\n",
    "    delta = {\n",
    "        'reference': 0, \n",
    "        'increasing': {'color': \"green\"}, \n",
    "        'decreasing': {'color': \"red\"},\n",
    "        'font': {'size': 24}\n",
    "    },\n",
    "    number = {'prefix': \"Score: \", 'font': {'size': 20}},\n",
    "    gauge = {\n",
    "        'axis': {\n",
    "            'range': [-1, 1], \n",
    "            'tickmode': 'array', \n",
    "            'tickvals': [-1, -0.6, -0.2, 0.2, 0.6, 1], \n",
    "            'ticktext': ['Very Negative', 'Negative', 'Slightly Negative', 'Slightly Positive', 'Positive', 'Very Positive'],\n",
    "            'tickangle': 0,\n",
    "            'tickfont': {'size': 10}\n",
    "        },\n",
    "        'bar': {'color': \"rgba(0,0,0,0)\"},  # Make the bar transparent\n",
    "        'bgcolor': \"white\",  # Set background color\n",
    "        'borderwidth': 2,\n",
    "        'bordercolor': \"gray\",\n",
    "        'steps' : [\n",
    "            {'range': [-1, -0.6], 'color': \"red\"},\n",
    "            {'range': [-0.6, -0.2], 'color': \"orange\"},\n",
    "            {'range': [-0.2, 0.2], 'color': \"yellow\"},\n",
    "            {'range': [0.2, 0.6], 'color': \"lightgreen\"},\n",
    "            {'range': [0.6, 1], 'color': \"green\"}\n",
    "        ],\n",
    "        'threshold': {\n",
    "            'line': {'color': \"black\", 'width': 4},\n",
    "            'thickness': 0.75,\n",
    "            'value': 0.5  # Set this to the current value\n",
    "        }\n",
    "    }\n",
    "))\n",
    "\n",
    "# Update layout for better visibility\n",
    "fig.update_layout(\n",
    "    height=600,\n",
    "    margin=dict(l=50, r=50, b=150, t=150, pad=4)\n",
    ")\n",
    "\n",
    "fig.show()"
   ],
   "outputs": [],
   "execution_count": null
  }
 ],
 "metadata": {
  "kernelspec": {
   "display_name": "Python 3",
   "language": "python",
   "name": "python3"
  },
  "language_info": {
   "codemirror_mode": {
    "name": "ipython",
    "version": 2
   },
   "file_extension": ".py",
   "mimetype": "text/x-python",
   "name": "python",
   "nbconvert_exporter": "python",
   "pygments_lexer": "ipython2",
   "version": "2.7.6"
  }
 },
 "nbformat": 4,
 "nbformat_minor": 5
}
